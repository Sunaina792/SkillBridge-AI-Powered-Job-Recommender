{
 "cells": [
  {
   "cell_type": "code",
   "execution_count": 1,
   "id": "d7616c68-0c7d-48aa-917d-2dfbc6e73900",
   "metadata": {},
   "outputs": [],
   "source": [
    "import pandas as pd "
   ]
  },
  {
   "cell_type": "code",
   "execution_count": 2,
   "id": "188cd237-132a-4369-90de-72b5f0ca8906",
   "metadata": {},
   "outputs": [],
   "source": [
    "df = pd.read_csv(\"job_roles_with_skills_updated.csv\")"
   ]
  },
  {
   "cell_type": "code",
   "execution_count": 3,
   "id": "8f4b5a7c-0a8c-4afe-8fe0-499d6af922de",
   "metadata": {},
   "outputs": [
    {
     "data": {
      "text/html": [
       "<div>\n",
       "<style scoped>\n",
       "    .dataframe tbody tr th:only-of-type {\n",
       "        vertical-align: middle;\n",
       "    }\n",
       "\n",
       "    .dataframe tbody tr th {\n",
       "        vertical-align: top;\n",
       "    }\n",
       "\n",
       "    .dataframe thead th {\n",
       "        text-align: right;\n",
       "    }\n",
       "</style>\n",
       "<table border=\"1\" class=\"dataframe\">\n",
       "  <thead>\n",
       "    <tr style=\"text-align: right;\">\n",
       "      <th></th>\n",
       "      <th>Job Role</th>\n",
       "      <th>Technical Skills</th>\n",
       "      <th>Soft Skills</th>\n",
       "    </tr>\n",
       "  </thead>\n",
       "  <tbody>\n",
       "    <tr>\n",
       "      <th>0</th>\n",
       "      <td>Data Scientist</td>\n",
       "      <td>Python, Machine Learning, SQL, Pandas, Scikit-...</td>\n",
       "      <td>Analytical Thinking, Communication, Problem So...</td>\n",
       "    </tr>\n",
       "    <tr>\n",
       "      <th>1</th>\n",
       "      <td>Frontend Developer</td>\n",
       "      <td>HTML, CSS, JavaScript, React, Responsive Desig...</td>\n",
       "      <td>Creativity, Attention to Detail, Teamwork, Ada...</td>\n",
       "    </tr>\n",
       "    <tr>\n",
       "      <th>2</th>\n",
       "      <td>Backend Developer</td>\n",
       "      <td>Python, Django, REST APIs, SQL, PostgreSQL, Git</td>\n",
       "      <td>Logical Thinking, Collaboration, Problem Solvi...</td>\n",
       "    </tr>\n",
       "    <tr>\n",
       "      <th>3</th>\n",
       "      <td>Mobile App Developer</td>\n",
       "      <td>Flutter, Dart, Android Studio, Firebase, Git</td>\n",
       "      <td>Creativity, Problem Solving, Team Collaboratio...</td>\n",
       "    </tr>\n",
       "    <tr>\n",
       "      <th>4</th>\n",
       "      <td>Business Analyst</td>\n",
       "      <td>Excel, SQL, Power BI, Tableau, Statistics, Python</td>\n",
       "      <td>Critical Thinking, Communication, Business Acu...</td>\n",
       "    </tr>\n",
       "    <tr>\n",
       "      <th>5</th>\n",
       "      <td>Project Manager</td>\n",
       "      <td>Project Planning Tools, JIRA, Scrum, Budgeting...</td>\n",
       "      <td>Leadership, Communication, Time Management, De...</td>\n",
       "    </tr>\n",
       "    <tr>\n",
       "      <th>6</th>\n",
       "      <td>UI/UX Designer</td>\n",
       "      <td>Figma, Adobe XD, Wireframing, Prototyping, HTM...</td>\n",
       "      <td>Empathy, Creativity, User-Centered Thinking, C...</td>\n",
       "    </tr>\n",
       "    <tr>\n",
       "      <th>7</th>\n",
       "      <td>DevOps Engineer</td>\n",
       "      <td>Linux, CI/CD, Docker, Kubernetes, AWS, Jenkins</td>\n",
       "      <td>Problem Solving, Proactiveness, Collaboration,...</td>\n",
       "    </tr>\n",
       "    <tr>\n",
       "      <th>8</th>\n",
       "      <td>Digital Marketing Specialist</td>\n",
       "      <td>SEO, SEM, Google Analytics, Social Media Ads, ...</td>\n",
       "      <td>Creativity, Communication, Data-Driven Thinkin...</td>\n",
       "    </tr>\n",
       "    <tr>\n",
       "      <th>9</th>\n",
       "      <td>Product Manager</td>\n",
       "      <td>Product Roadmaps, A/B Testing, Market Research...</td>\n",
       "      <td>Strategic Thinking, Communication, User Empath...</td>\n",
       "    </tr>\n",
       "    <tr>\n",
       "      <th>10</th>\n",
       "      <td>Software Engineer</td>\n",
       "      <td>Java, Python, C++, Spring, Django, React, SQL,...</td>\n",
       "      <td>Problem-solving, Teamwork, Communication, Atte...</td>\n",
       "    </tr>\n",
       "    <tr>\n",
       "      <th>11</th>\n",
       "      <td>Cybersecurity Analyst</td>\n",
       "      <td>C, C++, Java, PHP, Operating Systems, Network ...</td>\n",
       "      <td>Analytical Thinking, Problem-solving, Attentio...</td>\n",
       "    </tr>\n",
       "    <tr>\n",
       "      <th>12</th>\n",
       "      <td>Cloud Engineer</td>\n",
       "      <td>AWS, Azure, GCP, EC2, S3, Python, Bash, Securi...</td>\n",
       "      <td>Problem-solving, Communication, Adaptability, ...</td>\n",
       "    </tr>\n",
       "    <tr>\n",
       "      <th>13</th>\n",
       "      <td>Network Engineer</td>\n",
       "      <td>OSPF, BGP, Cisco, Juniper, Firewall Management...</td>\n",
       "      <td>Problem-solving, Analytical Skills, Documentat...</td>\n",
       "    </tr>\n",
       "    <tr>\n",
       "      <th>14</th>\n",
       "      <td>Database Administrator (DBA)</td>\n",
       "      <td>SQL, NoSQL, Database Security, Backup and Reco...</td>\n",
       "      <td>Problem-solving, Communication, Attention to D...</td>\n",
       "    </tr>\n",
       "    <tr>\n",
       "      <th>15</th>\n",
       "      <td>Technical Writer</td>\n",
       "      <td>Markdown, Adobe FrameMaker, Content Management...</td>\n",
       "      <td>Communication, Attention to Detail, User Empat...</td>\n",
       "    </tr>\n",
       "    <tr>\n",
       "      <th>16</th>\n",
       "      <td>Sales Engineer</td>\n",
       "      <td>P&amp;ID Interpretation, Industry Standards, MS Of...</td>\n",
       "      <td>Communication, Customer Orientation, Collabora...</td>\n",
       "    </tr>\n",
       "    <tr>\n",
       "      <th>17</th>\n",
       "      <td>IT Support Specialist</td>\n",
       "      <td>Windows, macOS, Linux, Network Troubleshooting...</td>\n",
       "      <td>Problem-solving, Customer Service, Communicati...</td>\n",
       "    </tr>\n",
       "    <tr>\n",
       "      <th>18</th>\n",
       "      <td>Site Reliability Engineer (SRE)</td>\n",
       "      <td>Linux, Cloud Platforms, Python, Go, Prometheus...</td>\n",
       "      <td>Problem-solving, Analytical Thinking, Communic...</td>\n",
       "    </tr>\n",
       "    <tr>\n",
       "      <th>19</th>\n",
       "      <td>Platform Engineer</td>\n",
       "      <td>AWS, Azure, GCP, Kubernetes, Docker, Terraform...</td>\n",
       "      <td>Collaboration, Problem-solving, Communication,...</td>\n",
       "    </tr>\n",
       "  </tbody>\n",
       "</table>\n",
       "</div>"
      ],
      "text/plain": [
       "                           Job Role  \\\n",
       "0                    Data Scientist   \n",
       "1                Frontend Developer   \n",
       "2                 Backend Developer   \n",
       "3              Mobile App Developer   \n",
       "4                  Business Analyst   \n",
       "5                   Project Manager   \n",
       "6                    UI/UX Designer   \n",
       "7                   DevOps Engineer   \n",
       "8      Digital Marketing Specialist   \n",
       "9                   Product Manager   \n",
       "10                Software Engineer   \n",
       "11            Cybersecurity Analyst   \n",
       "12                   Cloud Engineer   \n",
       "13                 Network Engineer   \n",
       "14     Database Administrator (DBA)   \n",
       "15                 Technical Writer   \n",
       "16                   Sales Engineer   \n",
       "17            IT Support Specialist   \n",
       "18  Site Reliability Engineer (SRE)   \n",
       "19                Platform Engineer   \n",
       "\n",
       "                                     Technical Skills  \\\n",
       "0   Python, Machine Learning, SQL, Pandas, Scikit-...   \n",
       "1   HTML, CSS, JavaScript, React, Responsive Desig...   \n",
       "2     Python, Django, REST APIs, SQL, PostgreSQL, Git   \n",
       "3        Flutter, Dart, Android Studio, Firebase, Git   \n",
       "4   Excel, SQL, Power BI, Tableau, Statistics, Python   \n",
       "5   Project Planning Tools, JIRA, Scrum, Budgeting...   \n",
       "6   Figma, Adobe XD, Wireframing, Prototyping, HTM...   \n",
       "7      Linux, CI/CD, Docker, Kubernetes, AWS, Jenkins   \n",
       "8   SEO, SEM, Google Analytics, Social Media Ads, ...   \n",
       "9   Product Roadmaps, A/B Testing, Market Research...   \n",
       "10  Java, Python, C++, Spring, Django, React, SQL,...   \n",
       "11  C, C++, Java, PHP, Operating Systems, Network ...   \n",
       "12  AWS, Azure, GCP, EC2, S3, Python, Bash, Securi...   \n",
       "13  OSPF, BGP, Cisco, Juniper, Firewall Management...   \n",
       "14  SQL, NoSQL, Database Security, Backup and Reco...   \n",
       "15  Markdown, Adobe FrameMaker, Content Management...   \n",
       "16  P&ID Interpretation, Industry Standards, MS Of...   \n",
       "17  Windows, macOS, Linux, Network Troubleshooting...   \n",
       "18  Linux, Cloud Platforms, Python, Go, Prometheus...   \n",
       "19  AWS, Azure, GCP, Kubernetes, Docker, Terraform...   \n",
       "\n",
       "                                          Soft Skills  \n",
       "0   Analytical Thinking, Communication, Problem So...  \n",
       "1   Creativity, Attention to Detail, Teamwork, Ada...  \n",
       "2   Logical Thinking, Collaboration, Problem Solvi...  \n",
       "3   Creativity, Problem Solving, Team Collaboratio...  \n",
       "4   Critical Thinking, Communication, Business Acu...  \n",
       "5   Leadership, Communication, Time Management, De...  \n",
       "6   Empathy, Creativity, User-Centered Thinking, C...  \n",
       "7   Problem Solving, Proactiveness, Collaboration,...  \n",
       "8   Creativity, Communication, Data-Driven Thinkin...  \n",
       "9   Strategic Thinking, Communication, User Empath...  \n",
       "10  Problem-solving, Teamwork, Communication, Atte...  \n",
       "11  Analytical Thinking, Problem-solving, Attentio...  \n",
       "12  Problem-solving, Communication, Adaptability, ...  \n",
       "13  Problem-solving, Analytical Skills, Documentat...  \n",
       "14  Problem-solving, Communication, Attention to D...  \n",
       "15  Communication, Attention to Detail, User Empat...  \n",
       "16  Communication, Customer Orientation, Collabora...  \n",
       "17  Problem-solving, Customer Service, Communicati...  \n",
       "18  Problem-solving, Analytical Thinking, Communic...  \n",
       "19  Collaboration, Problem-solving, Communication,...  "
      ]
     },
     "execution_count": 3,
     "metadata": {},
     "output_type": "execute_result"
    }
   ],
   "source": [
    "df"
   ]
  },
  {
   "cell_type": "code",
   "execution_count": 4,
   "id": "4700c970-b760-4e97-850e-ddf58aea3e6b",
   "metadata": {},
   "outputs": [
    {
     "data": {
      "text/plain": [
       "'Python, Machine Learning, SQL, Pandas, Scikit-learn, Data Visualization'"
      ]
     },
     "execution_count": 4,
     "metadata": {},
     "output_type": "execute_result"
    }
   ],
   "source": [
    "df['Technical Skills'][0]"
   ]
  },
  {
   "cell_type": "code",
   "execution_count": 5,
   "id": "f8069147-58f1-49ad-adeb-ea2da94e5ae9",
   "metadata": {},
   "outputs": [],
   "source": [
    "import matplotlib.pyplot as plt\n"
   ]
  },
  {
   "cell_type": "code",
   "execution_count": 6,
   "id": "ef5c13a3-5132-42a9-9fea-f0162cec7a1e",
   "metadata": {},
   "outputs": [
    {
     "data": {
      "text/html": [
       "<div>\n",
       "<style scoped>\n",
       "    .dataframe tbody tr th:only-of-type {\n",
       "        vertical-align: middle;\n",
       "    }\n",
       "\n",
       "    .dataframe tbody tr th {\n",
       "        vertical-align: top;\n",
       "    }\n",
       "\n",
       "    .dataframe thead th {\n",
       "        text-align: right;\n",
       "    }\n",
       "</style>\n",
       "<table border=\"1\" class=\"dataframe\">\n",
       "  <thead>\n",
       "    <tr style=\"text-align: right;\">\n",
       "      <th></th>\n",
       "      <th>Job Role</th>\n",
       "      <th>Technical Skills</th>\n",
       "      <th>Soft Skills</th>\n",
       "      <th>All Skills</th>\n",
       "    </tr>\n",
       "  </thead>\n",
       "  <tbody>\n",
       "    <tr>\n",
       "      <th>0</th>\n",
       "      <td>Data Scientist</td>\n",
       "      <td>Python, Machine Learning, SQL, Pandas, Scikit-...</td>\n",
       "      <td>Analytical Thinking, Communication, Problem So...</td>\n",
       "      <td>Python, Machine Learning, SQL, Pandas, Scikit-...</td>\n",
       "    </tr>\n",
       "    <tr>\n",
       "      <th>1</th>\n",
       "      <td>Frontend Developer</td>\n",
       "      <td>HTML, CSS, JavaScript, React, Responsive Desig...</td>\n",
       "      <td>Creativity, Attention to Detail, Teamwork, Ada...</td>\n",
       "      <td>HTML, CSS, JavaScript, React, Responsive Desig...</td>\n",
       "    </tr>\n",
       "    <tr>\n",
       "      <th>2</th>\n",
       "      <td>Backend Developer</td>\n",
       "      <td>Python, Django, REST APIs, SQL, PostgreSQL, Git</td>\n",
       "      <td>Logical Thinking, Collaboration, Problem Solvi...</td>\n",
       "      <td>Python, Django, REST APIs, SQL, PostgreSQL, Gi...</td>\n",
       "    </tr>\n",
       "    <tr>\n",
       "      <th>3</th>\n",
       "      <td>Mobile App Developer</td>\n",
       "      <td>Flutter, Dart, Android Studio, Firebase, Git</td>\n",
       "      <td>Creativity, Problem Solving, Team Collaboratio...</td>\n",
       "      <td>Flutter, Dart, Android Studio, Firebase, Git, ...</td>\n",
       "    </tr>\n",
       "    <tr>\n",
       "      <th>4</th>\n",
       "      <td>Business Analyst</td>\n",
       "      <td>Excel, SQL, Power BI, Tableau, Statistics, Python</td>\n",
       "      <td>Critical Thinking, Communication, Business Acu...</td>\n",
       "      <td>Excel, SQL, Power BI, Tableau, Statistics, Pyt...</td>\n",
       "    </tr>\n",
       "  </tbody>\n",
       "</table>\n",
       "</div>"
      ],
      "text/plain": [
       "               Job Role                                   Technical Skills  \\\n",
       "0        Data Scientist  Python, Machine Learning, SQL, Pandas, Scikit-...   \n",
       "1    Frontend Developer  HTML, CSS, JavaScript, React, Responsive Desig...   \n",
       "2     Backend Developer    Python, Django, REST APIs, SQL, PostgreSQL, Git   \n",
       "3  Mobile App Developer       Flutter, Dart, Android Studio, Firebase, Git   \n",
       "4      Business Analyst  Excel, SQL, Power BI, Tableau, Statistics, Python   \n",
       "\n",
       "                                         Soft Skills  \\\n",
       "0  Analytical Thinking, Communication, Problem So...   \n",
       "1  Creativity, Attention to Detail, Teamwork, Ada...   \n",
       "2  Logical Thinking, Collaboration, Problem Solvi...   \n",
       "3  Creativity, Problem Solving, Team Collaboratio...   \n",
       "4  Critical Thinking, Communication, Business Acu...   \n",
       "\n",
       "                                          All Skills  \n",
       "0  Python, Machine Learning, SQL, Pandas, Scikit-...  \n",
       "1  HTML, CSS, JavaScript, React, Responsive Desig...  \n",
       "2  Python, Django, REST APIs, SQL, PostgreSQL, Gi...  \n",
       "3  Flutter, Dart, Android Studio, Firebase, Git, ...  \n",
       "4  Excel, SQL, Power BI, Tableau, Statistics, Pyt...  "
      ]
     },
     "execution_count": 6,
     "metadata": {},
     "output_type": "execute_result"
    }
   ],
   "source": [
    "df['All Skills'] = df['Technical Skills'] + ', ' + df['Soft Skills']\n",
    "df.head()"
   ]
  },
  {
   "cell_type": "code",
   "execution_count": 7,
   "id": "842a5541-f44b-4b66-beeb-0d7f6c80512f",
   "metadata": {},
   "outputs": [],
   "source": [
    "# cols = ['Technical Skills','Soft Skills']"
   ]
  },
  {
   "cell_type": "code",
   "execution_count": 8,
   "id": "c27f39a5-eb66-4c69-8cf9-bab60d19252e",
   "metadata": {},
   "outputs": [],
   "source": [
    "import nltk"
   ]
  },
  {
   "cell_type": "code",
   "execution_count": 9,
   "id": "90b61966-1b01-4e28-b464-222994de917c",
   "metadata": {},
   "outputs": [
    {
     "name": "stderr",
     "output_type": "stream",
     "text": [
      "[nltk_data] Downloading package punkt to\n",
      "[nltk_data]     C:\\Users\\4suna\\AppData\\Roaming\\nltk_data...\n",
      "[nltk_data]   Package punkt is already up-to-date!\n"
     ]
    },
    {
     "data": {
      "text/plain": [
       "True"
      ]
     },
     "execution_count": 9,
     "metadata": {},
     "output_type": "execute_result"
    }
   ],
   "source": [
    "nltk.download(\"punkt\")"
   ]
  },
  {
   "cell_type": "code",
   "execution_count": 10,
   "id": "945c82e5-49e7-44d7-ae94-62595c2b4a7f",
   "metadata": {},
   "outputs": [
    {
     "name": "stderr",
     "output_type": "stream",
     "text": [
      "[nltk_data] Downloading package stopwords to\n",
      "[nltk_data]     C:\\Users\\4suna\\AppData\\Roaming\\nltk_data...\n",
      "[nltk_data]   Package stopwords is already up-to-date!\n"
     ]
    }
   ],
   "source": [
    "nltk.download('stopwords')\n",
    "from nltk.corpus import stopwords\n"
   ]
  },
  {
   "cell_type": "code",
   "execution_count": 11,
   "id": "8f1d50f7-4d12-4fd8-87cf-6c14d335dd45",
   "metadata": {},
   "outputs": [],
   "source": [
    "stop_words = set(stopwords.words('english'))\n"
   ]
  },
  {
   "cell_type": "code",
   "execution_count": 12,
   "id": "e854fe9e-eafa-4edf-9bdb-58e63660ced1",
   "metadata": {},
   "outputs": [
    {
     "data": {
      "text/html": [
       "<div>\n",
       "<style scoped>\n",
       "    .dataframe tbody tr th:only-of-type {\n",
       "        vertical-align: middle;\n",
       "    }\n",
       "\n",
       "    .dataframe tbody tr th {\n",
       "        vertical-align: top;\n",
       "    }\n",
       "\n",
       "    .dataframe thead th {\n",
       "        text-align: right;\n",
       "    }\n",
       "</style>\n",
       "<table border=\"1\" class=\"dataframe\">\n",
       "  <thead>\n",
       "    <tr style=\"text-align: right;\">\n",
       "      <th></th>\n",
       "      <th>Job Role</th>\n",
       "      <th>Technical Skills</th>\n",
       "      <th>Soft Skills</th>\n",
       "      <th>All Skills</th>\n",
       "    </tr>\n",
       "  </thead>\n",
       "  <tbody>\n",
       "    <tr>\n",
       "      <th>0</th>\n",
       "      <td>Data Scientist</td>\n",
       "      <td>Python, Machine Learning, SQL, Pandas, Scikit-...</td>\n",
       "      <td>Analytical Thinking, Communication, Problem So...</td>\n",
       "      <td>Python, Machine Learning, SQL, Pandas, Scikit-...</td>\n",
       "    </tr>\n",
       "    <tr>\n",
       "      <th>1</th>\n",
       "      <td>Frontend Developer</td>\n",
       "      <td>HTML, CSS, JavaScript, React, Responsive Desig...</td>\n",
       "      <td>Creativity, Attention to Detail, Teamwork, Ada...</td>\n",
       "      <td>HTML, CSS, JavaScript, React, Responsive Desig...</td>\n",
       "    </tr>\n",
       "    <tr>\n",
       "      <th>2</th>\n",
       "      <td>Backend Developer</td>\n",
       "      <td>Python, Django, REST APIs, SQL, PostgreSQL, Git</td>\n",
       "      <td>Logical Thinking, Collaboration, Problem Solvi...</td>\n",
       "      <td>Python, Django, REST APIs, SQL, PostgreSQL, Gi...</td>\n",
       "    </tr>\n",
       "    <tr>\n",
       "      <th>3</th>\n",
       "      <td>Mobile App Developer</td>\n",
       "      <td>Flutter, Dart, Android Studio, Firebase, Git</td>\n",
       "      <td>Creativity, Problem Solving, Team Collaboratio...</td>\n",
       "      <td>Flutter, Dart, Android Studio, Firebase, Git, ...</td>\n",
       "    </tr>\n",
       "    <tr>\n",
       "      <th>4</th>\n",
       "      <td>Business Analyst</td>\n",
       "      <td>Excel, SQL, Power BI, Tableau, Statistics, Python</td>\n",
       "      <td>Critical Thinking, Communication, Business Acu...</td>\n",
       "      <td>Excel, SQL, Power BI, Tableau, Statistics, Pyt...</td>\n",
       "    </tr>\n",
       "  </tbody>\n",
       "</table>\n",
       "</div>"
      ],
      "text/plain": [
       "               Job Role                                   Technical Skills  \\\n",
       "0        Data Scientist  Python, Machine Learning, SQL, Pandas, Scikit-...   \n",
       "1    Frontend Developer  HTML, CSS, JavaScript, React, Responsive Desig...   \n",
       "2     Backend Developer    Python, Django, REST APIs, SQL, PostgreSQL, Git   \n",
       "3  Mobile App Developer       Flutter, Dart, Android Studio, Firebase, Git   \n",
       "4      Business Analyst  Excel, SQL, Power BI, Tableau, Statistics, Python   \n",
       "\n",
       "                                         Soft Skills  \\\n",
       "0  Analytical Thinking, Communication, Problem So...   \n",
       "1  Creativity, Attention to Detail, Teamwork, Ada...   \n",
       "2  Logical Thinking, Collaboration, Problem Solvi...   \n",
       "3  Creativity, Problem Solving, Team Collaboratio...   \n",
       "4  Critical Thinking, Communication, Business Acu...   \n",
       "\n",
       "                                          All Skills  \n",
       "0  Python, Machine Learning, SQL, Pandas, Scikit-...  \n",
       "1  HTML, CSS, JavaScript, React, Responsive Desig...  \n",
       "2  Python, Django, REST APIs, SQL, PostgreSQL, Gi...  \n",
       "3  Flutter, Dart, Android Studio, Firebase, Git, ...  \n",
       "4  Excel, SQL, Power BI, Tableau, Statistics, Pyt...  "
      ]
     },
     "execution_count": 12,
     "metadata": {},
     "output_type": "execute_result"
    }
   ],
   "source": [
    "import re\n",
    "def preprocess(text):\n",
    "    text = re.sub(r'[^a-zA-Z\\s]', '', text)  # remove special characters\n",
    "    text = text.lower()\n",
    "    tokens = text.split()\n",
    "    tokens = [word for word in tokens if word not in stop_words]\n",
    "    return ' '.join(tokens)\n",
    "\n",
    "df.head()"
   ]
  },
  {
   "cell_type": "code",
   "execution_count": 13,
   "id": "3eef05b1-d68b-4ad4-a958-e4aee6a26ce3",
   "metadata": {},
   "outputs": [],
   "source": [
    "# User input\n",
    "user_skills = \"Java,Flutter, Dart, Android Studio, Firebase, Git, Teamwork, Communication,Logical Thinking\"\n",
    "user_skills_processed = preprocess(user_skills)"
   ]
  },
  {
   "cell_type": "code",
   "execution_count": 14,
   "id": "caa891b2-de0f-4f52-81e3-04bd2a2d0c4d",
   "metadata": {},
   "outputs": [],
   "source": [
    "from sklearn.feature_extraction.text import TfidfVectorizer\n",
    "from sklearn.metrics.pairwise import cosine_similarity"
   ]
  },
  {
   "cell_type": "code",
   "execution_count": 15,
   "id": "74e45eb8-fef5-4034-9eed-f40e5117530c",
   "metadata": {},
   "outputs": [],
   "source": [
    "# TF-IDF Vectorization\n",
    "vectorizer = TfidfVectorizer()\n",
    "tfidf_matrix = vectorizer.fit_transform(df['All Skills'].tolist() + [user_skills_processed])\n"
   ]
  },
  {
   "cell_type": "code",
   "execution_count": 16,
   "id": "53c02ff5-9609-411b-ba98-11f1d3f12b9d",
   "metadata": {},
   "outputs": [],
   "source": [
    "# Last vector is user's skills\n",
    "user_vector = tfidf_matrix[-1]\n",
    "job_vectors = tfidf_matrix[:-1]\n",
    "\n"
   ]
  },
  {
   "cell_type": "code",
   "execution_count": 17,
   "id": "c364899d-41e2-47d7-8186-c94b799a705e",
   "metadata": {},
   "outputs": [
    {
     "data": {
      "text/html": [
       "<div>\n",
       "<style scoped>\n",
       "    .dataframe tbody tr th:only-of-type {\n",
       "        vertical-align: middle;\n",
       "    }\n",
       "\n",
       "    .dataframe tbody tr th {\n",
       "        vertical-align: top;\n",
       "    }\n",
       "\n",
       "    .dataframe thead th {\n",
       "        text-align: right;\n",
       "    }\n",
       "</style>\n",
       "<table border=\"1\" class=\"dataframe\">\n",
       "  <thead>\n",
       "    <tr style=\"text-align: right;\">\n",
       "      <th></th>\n",
       "      <th>Job Role</th>\n",
       "      <th>Technical Skills</th>\n",
       "      <th>Soft Skills</th>\n",
       "      <th>All Skills</th>\n",
       "      <th>Match Score</th>\n",
       "    </tr>\n",
       "  </thead>\n",
       "  <tbody>\n",
       "    <tr>\n",
       "      <th>0</th>\n",
       "      <td>Data Scientist</td>\n",
       "      <td>Python, Machine Learning, SQL, Pandas, Scikit-...</td>\n",
       "      <td>Analytical Thinking, Communication, Problem So...</td>\n",
       "      <td>Python, Machine Learning, SQL, Pandas, Scikit-...</td>\n",
       "      <td>0.035281</td>\n",
       "    </tr>\n",
       "    <tr>\n",
       "      <th>1</th>\n",
       "      <td>Frontend Developer</td>\n",
       "      <td>HTML, CSS, JavaScript, React, Responsive Desig...</td>\n",
       "      <td>Creativity, Attention to Detail, Teamwork, Ada...</td>\n",
       "      <td>HTML, CSS, JavaScript, React, Responsive Desig...</td>\n",
       "      <td>0.117195</td>\n",
       "    </tr>\n",
       "    <tr>\n",
       "      <th>2</th>\n",
       "      <td>Backend Developer</td>\n",
       "      <td>Python, Django, REST APIs, SQL, PostgreSQL, Git</td>\n",
       "      <td>Logical Thinking, Collaboration, Problem Solvi...</td>\n",
       "      <td>Python, Django, REST APIs, SQL, PostgreSQL, Gi...</td>\n",
       "      <td>0.097187</td>\n",
       "    </tr>\n",
       "    <tr>\n",
       "      <th>3</th>\n",
       "      <td>Mobile App Developer</td>\n",
       "      <td>Flutter, Dart, Android Studio, Firebase, Git</td>\n",
       "      <td>Creativity, Problem Solving, Team Collaboratio...</td>\n",
       "      <td>Flutter, Dart, Android Studio, Firebase, Git, ...</td>\n",
       "      <td>0.503647</td>\n",
       "    </tr>\n",
       "    <tr>\n",
       "      <th>4</th>\n",
       "      <td>Business Analyst</td>\n",
       "      <td>Excel, SQL, Power BI, Tableau, Statistics, Python</td>\n",
       "      <td>Critical Thinking, Communication, Business Acu...</td>\n",
       "      <td>Excel, SQL, Power BI, Tableau, Statistics, Pyt...</td>\n",
       "      <td>0.033996</td>\n",
       "    </tr>\n",
       "  </tbody>\n",
       "</table>\n",
       "</div>"
      ],
      "text/plain": [
       "               Job Role                                   Technical Skills  \\\n",
       "0        Data Scientist  Python, Machine Learning, SQL, Pandas, Scikit-...   \n",
       "1    Frontend Developer  HTML, CSS, JavaScript, React, Responsive Desig...   \n",
       "2     Backend Developer    Python, Django, REST APIs, SQL, PostgreSQL, Git   \n",
       "3  Mobile App Developer       Flutter, Dart, Android Studio, Firebase, Git   \n",
       "4      Business Analyst  Excel, SQL, Power BI, Tableau, Statistics, Python   \n",
       "\n",
       "                                         Soft Skills  \\\n",
       "0  Analytical Thinking, Communication, Problem So...   \n",
       "1  Creativity, Attention to Detail, Teamwork, Ada...   \n",
       "2  Logical Thinking, Collaboration, Problem Solvi...   \n",
       "3  Creativity, Problem Solving, Team Collaboratio...   \n",
       "4  Critical Thinking, Communication, Business Acu...   \n",
       "\n",
       "                                          All Skills  Match Score  \n",
       "0  Python, Machine Learning, SQL, Pandas, Scikit-...     0.035281  \n",
       "1  HTML, CSS, JavaScript, React, Responsive Desig...     0.117195  \n",
       "2  Python, Django, REST APIs, SQL, PostgreSQL, Gi...     0.097187  \n",
       "3  Flutter, Dart, Android Studio, Firebase, Git, ...     0.503647  \n",
       "4  Excel, SQL, Power BI, Tableau, Statistics, Pyt...     0.033996  "
      ]
     },
     "execution_count": 17,
     "metadata": {},
     "output_type": "execute_result"
    }
   ],
   "source": [
    "# Cosine Similarity\n",
    "similarities = cosine_similarity(user_vector, job_vectors).flatten()\n",
    "df['Match Score'] = similarities\n",
    "df.head()"
   ]
  },
  {
   "cell_type": "code",
   "execution_count": 18,
   "id": "8119d590-4ee3-40f3-8a59-9e45d7c6842a",
   "metadata": {},
   "outputs": [
    {
     "name": "stdout",
     "output_type": "stream",
     "text": [
      "Top Job Recommendations:\n",
      "                Job Role                                   Technical Skills  \\\n",
      "3   Mobile App Developer       Flutter, Dart, Android Studio, Firebase, Git   \n",
      "1     Frontend Developer  HTML, CSS, JavaScript, React, Responsive Desig...   \n",
      "10     Software Engineer  Java, Python, C++, Spring, Django, React, SQL,...   \n",
      "2      Backend Developer    Python, Django, REST APIs, SQL, PostgreSQL, Git   \n",
      "12        Cloud Engineer  AWS, Azure, GCP, EC2, S3, Python, Bash, Securi...   \n",
      "\n",
      "                                          Soft Skills  Match Score  \n",
      "3   Creativity, Problem Solving, Team Collaboratio...     0.503647  \n",
      "1   Creativity, Attention to Detail, Teamwork, Ada...     0.117195  \n",
      "10  Problem-solving, Teamwork, Communication, Atte...     0.115499  \n",
      "2   Logical Thinking, Collaboration, Problem Solvi...     0.097187  \n",
      "12  Problem-solving, Communication, Adaptability, ...     0.056623  \n"
     ]
    }
   ],
   "source": [
    "# Top matches\n",
    "recommended = df.sort_values(by='Match Score', ascending=False)\n",
    "print(\"Top Job Recommendations:\")\n",
    "print(recommended[['Job Role', 'Technical Skills', 'Soft Skills', 'Match Score']].head(5))"
   ]
  },
  {
   "cell_type": "code",
   "execution_count": 19,
   "id": "9deffaaa-c93d-49f8-85a7-3e54586be1a2",
   "metadata": {},
   "outputs": [
    {
     "name": "stdout",
     "output_type": "stream",
     "text": [
      "✅ Job Role Recommendations:\n",
      "                           Job Role  Match Score\n",
      "3              Mobile App Developer     0.503647\n",
      "1                Frontend Developer     0.117195\n",
      "10                Software Engineer     0.115499\n",
      "2                 Backend Developer     0.097187\n",
      "12                   Cloud Engineer     0.056623\n",
      "13                 Network Engineer     0.055702\n",
      "15                 Technical Writer     0.051491\n",
      "9                   Product Manager     0.036131\n",
      "0                    Data Scientist     0.035281\n",
      "6                    UI/UX Designer     0.034051\n",
      "4                  Business Analyst     0.033996\n",
      "18  Site Reliability Engineer (SRE)     0.032833\n",
      "8      Digital Marketing Specialist     0.031945\n",
      "11            Cybersecurity Analyst     0.030521\n",
      "7                   DevOps Engineer     0.000000\n",
      "5                   Project Manager     0.000000\n",
      "14     Database Administrator (DBA)     0.000000\n",
      "16                   Sales Engineer     0.000000\n",
      "17            IT Support Specialist     0.000000\n",
      "19                Platform Engineer     0.000000\n"
     ]
    }
   ],
   "source": [
    "\n",
    "\n",
    "# Sort by best match\n",
    "df_sorted = df.sort_values(by='Match Score', ascending=False)\n",
    "\n",
    "# Show results\n",
    "print(\"✅ Job Role Recommendations:\")\n",
    "print(df_sorted[['Job Role', 'Match Score']])"
   ]
  },
  {
   "cell_type": "code",
   "execution_count": 21,
   "id": "83a0e5d5-5d81-4324-84bb-1b10e63eed5d",
   "metadata": {},
   "outputs": [
    {
     "name": "stdout",
     "output_type": "stream",
     "text": [
      "✅ Pickle file saved as job_roles_dataset.pkl\n"
     ]
    }
   ],
   "source": []
  },
  {
   "cell_type": "code",
   "execution_count": 22,
   "id": "181abf0f-7a32-4379-8e63-4042acc4d43d",
   "metadata": {},
   "outputs": [],
   "source": [
    "def skill_gap_analyzer(df, selected_role, user_selected_skills):\n",
    "    \"\"\"\n",
    "    Returns matched and missing skills for a given job role.\n",
    "    \"\"\"\n",
    "    role_data = df[df['Job Role'] == selected_role].iloc[0]\n",
    "    role_skills = set([s.strip() for s in (role_data['Technical Skills'] + \", \" + role_data['Soft Skills']).split(',')])\n",
    "    user_skills = set(user_selected_skills)\n",
    "\n",
    "    matched = sorted(list(role_skills & user_skills))\n",
    "    missing = sorted(list(role_skills - user_skills))\n",
    "\n",
    "    return matched, missing\n"
   ]
  },
  {
   "cell_type": "code",
   "execution_count": 23,
   "id": "25a6cab8-b88f-4709-9d16-dd6027127485",
   "metadata": {},
   "outputs": [
    {
     "name": "stdout",
     "output_type": "stream",
     "text": [
      "✅ Matched Skills: ['Machine Learning', 'Pandas', 'Python']\n",
      "❌ Missing Skills: ['Analytical Thinking', 'Communication', 'Curiosity', 'Data Visualization', 'Problem Solving', 'SQL', 'Scikit-learn']\n"
     ]
    }
   ],
   "source": [
    "# Example\n",
    "df = pickle.load(open(\"job_roles_dataset.pkl\", \"rb\"))\n",
    "df['All Skills'] = df['Technical Skills'] + ', ' + df['Soft Skills']\n",
    "\n",
    "# Just test for one job\n",
    "selected_role = \"Data Scientist\"\n",
    "user_selected_skills = [\"Python\", \"Pandas\", \"Machine Learning\"]\n",
    "\n",
    "matched, missing = skill_gap_analyzer(df, selected_role, user_selected_skills)\n",
    "\n",
    "print(\"✅ Matched Skills:\", matched)\n",
    "print(\"❌ Missing Skills:\", missing)\n"
   ]
  },
  {
   "cell_type": "code",
   "execution_count": 24,
   "id": "686e0cfe-1975-430e-9979-17d32dc1bf7d",
   "metadata": {},
   "outputs": [
    {
     "name": "stdout",
     "output_type": "stream",
     "text": [
      "✅ Pickle file saved as job_roles_dataset.pkl\n"
     ]
    }
   ],
   "source": [
    "import pandas as pd\n",
    "import pickle\n",
    "\n",
    "# Load your CSV\n",
    "df = pd.read_csv(\"job_roles_with_skills_updated.csv\")  \n",
    "\n",
    "# Save it as a pickle\n",
    "with open(\"job_roles_dataset.pkl\", \"wb\") as f:\n",
    "    pickle.dump(df, f)\n",
    "\n",
    "print(\"✅ Pickle file saved as job_roles_dataset.pkl\")\n"
   ]
  },
  {
   "cell_type": "code",
   "execution_count": null,
   "id": "9f88bbfb-3679-43c8-833d-76ffe1a70126",
   "metadata": {},
   "outputs": [],
   "source": []
  },
  {
   "cell_type": "code",
   "execution_count": null,
   "id": "fbd58564-2153-4521-8a87-211c331f927e",
   "metadata": {},
   "outputs": [],
   "source": []
  },
  {
   "cell_type": "code",
   "execution_count": null,
   "id": "0a2121fa-3209-435f-89f6-4b21a885f8f3",
   "metadata": {},
   "outputs": [],
   "source": []
  },
  {
   "cell_type": "code",
   "execution_count": null,
   "id": "1c6b3b36-c167-4554-a8cd-5246811d3a63",
   "metadata": {},
   "outputs": [],
   "source": []
  },
  {
   "cell_type": "code",
   "execution_count": null,
   "id": "7363ee5b-1275-456f-849d-3fa0a416cf6e",
   "metadata": {},
   "outputs": [],
   "source": []
  },
  {
   "cell_type": "code",
   "execution_count": null,
   "id": "adfb7523-56ba-4253-8848-6aa81a03defd",
   "metadata": {},
   "outputs": [],
   "source": []
  },
  {
   "cell_type": "code",
   "execution_count": null,
   "id": "effddb59-26b8-488e-be73-72581001cd32",
   "metadata": {},
   "outputs": [],
   "source": []
  },
  {
   "cell_type": "code",
   "execution_count": null,
   "id": "fc13cd9d-04f5-4baf-aafa-6404a99cd03b",
   "metadata": {},
   "outputs": [],
   "source": []
  }
 ],
 "metadata": {
  "kernelspec": {
   "display_name": "Python [conda env:base] *",
   "language": "python",
   "name": "conda-base-py"
  },
  "language_info": {
   "codemirror_mode": {
    "name": "ipython",
    "version": 3
   },
   "file_extension": ".py",
   "mimetype": "text/x-python",
   "name": "python",
   "nbconvert_exporter": "python",
   "pygments_lexer": "ipython3",
   "version": "3.12.7"
  }
 },
 "nbformat": 4,
 "nbformat_minor": 5
}
